{
 "metadata": {
  "language_info": {
   "codemirror_mode": {
    "name": "ipython",
    "version": 3
   },
   "file_extension": ".py",
   "mimetype": "text/x-python",
   "name": "python",
   "nbconvert_exporter": "python",
   "pygments_lexer": "ipython3",
   "version": "3.9.1"
  },
  "orig_nbformat": 2,
  "kernelspec": {
   "name": "python391jvsc74a57bd01072e0526ace921920c945980564f480b3d3170b4dc7a8d6cb33c09ebdd84565",
   "display_name": "Python 3.9.1 64-bit ('.venv': venv)"
  }
 },
 "nbformat": 4,
 "nbformat_minor": 2,
 "cells": [
  {
   "cell_type": "code",
   "execution_count": 1,
   "metadata": {},
   "outputs": [],
   "source": [
    "import pandas as pd\n",
    "import boto3\n",
    "from s3path import S3Path\n",
    "import glob\n",
    "import numpy as np\n",
    "\n",
    "# Import custom modules\n",
    "%load_ext autoreload\n",
    "%autoreload 2\n",
    "#!python -m spacy download en_core_web_lg\n",
    "import sys\n",
    "sys.path.append('../')\n",
    "from normalize import organize, nlp_proc"
   ]
  },
  {
   "cell_type": "code",
   "execution_count": 2,
   "metadata": {},
   "outputs": [],
   "source": [
    "bucket_path = S3Path('/tab-data-extraction-sandbox/extract_output/rent_rolls/')\n",
    "DetecTable_paths = list(bucket_path.glob('DetecTable/multifamily/**/*.csv'))\n",
    "textract_paths = list(bucket_path.glob('textract/**/**/*-1-tables.csv'))"
   ]
  },
  {
   "source": [
    "### TODO\n",
    "1. Iterate over rows of CSV - save index of each row and calculate max similarity to know rent roll categories \n",
    "2. Track threshold change in similarity to detect the bounds of the header\n",
    "3. Validate against labels created by Madi"
   ],
   "cell_type": "markdown",
   "metadata": {}
  },
  {
   "cell_type": "code",
   "execution_count": 3,
   "metadata": {},
   "outputs": [
    {
     "output_type": "execute_result",
     "data": {
      "text/plain": [
       "S3Path('/tab-data-extraction-sandbox/extract_output/rent_rolls/textract/60558_RentRoll.pdf-analysis/60558_rentroll/page-1-tables.csv')"
      ]
     },
     "metadata": {},
     "execution_count": 3
    }
   ],
   "source": [
    "textract_paths[0]"
   ]
  },
  {
   "cell_type": "code",
   "execution_count": 4,
   "metadata": {},
   "outputs": [],
   "source": [
    "# 1 - iterate over rows of CSVs\n",
    "# Different call here for textract vs. camelot\n",
    "# for textract, set header = None\n",
    "tbl1 = pd.read_csv(\"s3:/\" + str(DetecTable_paths[1]))\n",
    "tbl2 = pd.read_csv(\"s3:/\" + str(textract_paths[1]), skiprows=1, header=None)"
   ]
  },
  {
   "source": [
    "### Compute similarity to known standard"
   ],
   "cell_type": "markdown",
   "metadata": {}
  },
  {
   "cell_type": "code",
   "execution_count": 5,
   "metadata": {},
   "outputs": [
    {
     "output_type": "execute_result",
     "data": {
      "text/plain": [
       "1    Tenant Contract Rent\n",
       "2      Employee Allowance\n",
       "3               Alarm Fee\n",
       "4             Unit Number\n",
       "5         Application Fee\n",
       "dtype: object"
      ]
     },
     "metadata": {},
     "execution_count": 5
    }
   ],
   "source": [
    "# Read in manual labels, save unique lbx headers as standard\n",
    "rr_labels = pd.read_csv('s3://tab-data-extraction-sandbox/manual_review/MadiRettew_InternProject_2-19-21_TZreview.csv')\n",
    "mf_rr_kb = pd.Series(rr_labels.lbx_header.unique())\n",
    "mf_rr_kb = mf_rr_kb[(mf_rr_kb!='None') & (mf_rr_kb.isna()==False)]\n",
    "mf_rr_kb.to_csv('../data/rr_multifamily_header.csv', index=False)\n",
    "mf_rr_kb.head()"
   ]
  },
  {
   "cell_type": "code",
   "execution_count": 7,
   "metadata": {},
   "outputs": [
    {
     "output_type": "stream",
     "name": "stderr",
     "text": [
      "../normalize/nlp_proc.py:20: UserWarning: [W008] Evaluating Doc.similarity based on empty vectors.\n  sim_mat = [[x.similarity(y) for x in to_map_pipe] for y in kb_pipe]\n"
     ]
    }
   ],
   "source": [
    "# Test get_max_sim method\n",
    "df_sim = nlp_proc.header_detector(tbl2, mf_rr_kb).get_max_sim()"
   ]
  },
  {
   "cell_type": "code",
   "execution_count": 11,
   "metadata": {},
   "outputs": [
    {
     "output_type": "stream",
     "name": "stderr",
     "text": [
      "../normalize/nlp_proc.py:20: UserWarning: [W008] Evaluating Doc.similarity based on empty vectors.\n  sim_mat = [[x.similarity(y) for x in to_map_pipe] for y in kb_pipe]\n"
     ]
    }
   ],
   "source": [
    "# Test get_header_candidates method\n",
    "header_id_zscore = nlp_proc.header_detector(tbl2, mf_rr_kb).get_header_candidates()"
   ]
  },
  {
   "cell_type": "code",
   "execution_count": 12,
   "metadata": {},
   "outputs": [
    {
     "output_type": "stream",
     "name": "stderr",
     "text": [
      "../normalize/nlp_proc.py:20: UserWarning: [W008] Evaluating Doc.similarity based on empty vectors.\n  sim_mat = [[x.similarity(y) for x in to_map_pipe] for y in kb_pipe]\n"
     ]
    }
   ],
   "source": [
    "# Test get_header_start_end method\n",
    "header_start_end = nlp_proc.header_detector(tbl2, mf_rr_kb).get_header_start_end()"
   ]
  },
  {
   "cell_type": "code",
   "execution_count": 14,
   "metadata": {},
   "outputs": [
    {
     "output_type": "stream",
     "name": "stderr",
     "text": [
      "../normalize/nlp_proc.py:20: UserWarning: [W008] Evaluating Doc.similarity based on empty vectors.\n  sim_mat = [[x.similarity(y) for x in to_map_pipe] for y in kb_pipe]\n"
     ]
    },
    {
     "output_type": "execute_result",
     "data": {
      "text/plain": [
       "[0, 0]"
      ]
     },
     "metadata": {},
     "execution_count": 14
    }
   ],
   "source": [
    "nlp_proc.header_detector(tbl2, mf_rr_kb).get_header_start_end()"
   ]
  },
  {
   "cell_type": "code",
   "execution_count": null,
   "metadata": {},
   "outputs": [],
   "source": []
  },
  {
   "cell_type": "code",
   "execution_count": 78,
   "metadata": {},
   "outputs": [
    {
     "output_type": "stream",
     "name": "stderr",
     "text": [
      "  0%|          | 0/139 [00:00<?, ?it/s]../normalize/nlp_proc.py:20: UserWarning: [W008] Evaluating Doc.similarity based on empty vectors.\n",
      "  sim_mat = [[x.similarity(y) for x in to_map_pipe] for y in kb_pipe]\n",
      " 69%|██████▉   | 96/139 [01:05<00:33,  1.30it/s]<ipython-input-78-25156b94d4d2>:14: RuntimeWarning: invalid value encountered in double_scalars\n",
      "  z = (v-mean)/std\n",
      "100%|██████████| 139/139 [01:35<00:00,  1.45it/s]\n"
     ]
    }
   ],
   "source": [
    "# For page 1 of textract grab zscore >1 with row index\n",
    "from tqdm import tqdm\n",
    "zscores = []\n",
    "for f in tqdm(textract_paths):\n",
    "    source = f.parents[1].stem\n",
    "    #source = f\n",
    "    tbl = pd.read_csv(\"s3:/\" + str(f), skiprows=1, header=None)\n",
    "    df_sim = header_detector(tbl).get_max_sim()\n",
    "    # Get sum across each row\n",
    "    col_sum = df_sim.sum(axis=1)\n",
    "    mean = np.mean(col_sum)\n",
    "    std = np.std(col_sum)\n",
    "    for i,v in enumerate(col_sum):\n",
    "        z = (v-mean)/std\n",
    "        if z > 1: \n",
    "            zscores.append([source,i,v,z])"
   ]
  },
  {
   "cell_type": "code",
   "execution_count": null,
   "metadata": {},
   "outputs": [],
   "source": [
    "# If headers are non-sequentially detected - see if they equal each other. If not, need to separate into separate tables!!\n",
    "# Example: 60703_1_rentroll/page-1-tables - 0,1 then 33,34\n",
    "\n",
    "# Also need to be able to detect total garbage output, such as the following which is purely NAs for the most part\n",
    "# 74051_1_rentroll"
   ]
  },
  {
   "cell_type": "code",
   "execution_count": 160,
   "metadata": {},
   "outputs": [
    {
     "output_type": "execute_result",
     "data": {
      "text/plain": [
       "      0                                1              2       3         4  \\\n",
       "0   NaN                              NaN            NaN     NaN       NaN   \n",
       "1  Unit                        Unit Type  Unit Resident    Name    Market   \n",
       "2   NaN                              NaN          Sq Ft     NaN      Rent   \n",
       "3   NaN  Current/Notice/Vacant Residents            NaN     NaN       NaN   \n",
       "4  A102                         40021x1A  620.00 VACANT  VACANT  1,230.00   \n",
       "\n",
       "                      5         6              7           8         9  \\\n",
       "0  Month Year = 01/2019       NaN            NaN         NaN       NaN   \n",
       "1                Actual  Resident  Other Move In       Lease  Move Out   \n",
       "2                  Rent   Deposit        Deposit  Expiration       NaN   \n",
       "3                   NaN       NaN            NaN         NaN       NaN   \n",
       "4                  0.00      0.00           0.00         NaN       NaN   \n",
       "\n",
       "        10  \n",
       "0      NaN  \n",
       "1  Balance  \n",
       "2      NaN  \n",
       "3      NaN  \n",
       "4     0.00  "
      ],
      "text/html": "<div>\n<style scoped>\n    .dataframe tbody tr th:only-of-type {\n        vertical-align: middle;\n    }\n\n    .dataframe tbody tr th {\n        vertical-align: top;\n    }\n\n    .dataframe thead th {\n        text-align: right;\n    }\n</style>\n<table border=\"1\" class=\"dataframe\">\n  <thead>\n    <tr style=\"text-align: right;\">\n      <th></th>\n      <th>0</th>\n      <th>1</th>\n      <th>2</th>\n      <th>3</th>\n      <th>4</th>\n      <th>5</th>\n      <th>6</th>\n      <th>7</th>\n      <th>8</th>\n      <th>9</th>\n      <th>10</th>\n    </tr>\n  </thead>\n  <tbody>\n    <tr>\n      <th>0</th>\n      <td>NaN</td>\n      <td>NaN</td>\n      <td>NaN</td>\n      <td>NaN</td>\n      <td>NaN</td>\n      <td>Month Year = 01/2019</td>\n      <td>NaN</td>\n      <td>NaN</td>\n      <td>NaN</td>\n      <td>NaN</td>\n      <td>NaN</td>\n    </tr>\n    <tr>\n      <th>1</th>\n      <td>Unit</td>\n      <td>Unit Type</td>\n      <td>Unit Resident</td>\n      <td>Name</td>\n      <td>Market</td>\n      <td>Actual</td>\n      <td>Resident</td>\n      <td>Other Move In</td>\n      <td>Lease</td>\n      <td>Move Out</td>\n      <td>Balance</td>\n    </tr>\n    <tr>\n      <th>2</th>\n      <td>NaN</td>\n      <td>NaN</td>\n      <td>Sq Ft</td>\n      <td>NaN</td>\n      <td>Rent</td>\n      <td>Rent</td>\n      <td>Deposit</td>\n      <td>Deposit</td>\n      <td>Expiration</td>\n      <td>NaN</td>\n      <td>NaN</td>\n    </tr>\n    <tr>\n      <th>3</th>\n      <td>NaN</td>\n      <td>Current/Notice/Vacant Residents</td>\n      <td>NaN</td>\n      <td>NaN</td>\n      <td>NaN</td>\n      <td>NaN</td>\n      <td>NaN</td>\n      <td>NaN</td>\n      <td>NaN</td>\n      <td>NaN</td>\n      <td>NaN</td>\n    </tr>\n    <tr>\n      <th>4</th>\n      <td>A102</td>\n      <td>40021x1A</td>\n      <td>620.00 VACANT</td>\n      <td>VACANT</td>\n      <td>1,230.00</td>\n      <td>0.00</td>\n      <td>0.00</td>\n      <td>0.00</td>\n      <td>NaN</td>\n      <td>NaN</td>\n      <td>0.00</td>\n    </tr>\n  </tbody>\n</table>\n</div>"
     },
     "metadata": {},
     "execution_count": 160
    }
   ],
   "source": [
    "tbl1.head()"
   ]
  },
  {
   "cell_type": "code",
   "execution_count": 79,
   "metadata": {},
   "outputs": [
    {
     "output_type": "execute_result",
     "data": {
      "text/plain": [
       "[['60558_RentRoll', 0, 8.624169064096506, 4.743043885234741],\n",
       " ['60558_RentRoll', 1, 5.489504242454156, 2.6108604139293807],\n",
       " ['60659_1_rentroll', 0, 6.528592224161702, 3.9461729839106217],\n",
       " ['60663_1_rentroll', 0, 8.622459708501532, 3.842007631260695],\n",
       " ['60663_1_rentroll', 1, 4.573649621234261, 1.4119869685726343],\n",
       " ['60663_2_rentroll', 0, 7.867721937585951, 3.198608650709549],\n",
       " ['60663_2_rentroll', 1, 4.57364962123426, 1.3036435739298788],\n",
       " ['60663_3_rentroll', 0, 8.622459708501532, 3.8563895012610314],\n",
       " ['60663_3_rentroll', 1, 4.573649621234261, 1.4489960852690347],\n",
       " ['60670_1_rentroll', 0, 6.573607069521042, 6.417047807344898],\n",
       " ['60701_1_rentroll', 0, 8.821738335819829, 5.707118836830578],\n",
       " ['60703_1_rentroll', 0, 7.9670267038144305, 4.41024191051327],\n",
       " ['60703_1_rentroll', 1, 4.573649621234261, 1.7980307630457297],\n",
       " ['60703_1_rentroll', 33, 6.536796552822949, 3.309255178728249],\n",
       " ['60703_1_rentroll', 34, 5.201892394357138, 2.2816501001633367],\n",
       " ['60713_10_rentroll', 0, 12.267566202773708, 2.430272915795878],\n",
       " ['60713_11_rentroll', 0, 10.077005832531622, 2.7692351796044994],\n",
       " ['60713_12_rentroll', 0, 11.543246210314816, 1.4038917043850183],\n",
       " ['60713_13_rentroll', 0, 13.170775424776053, 1.9736443775773296],\n",
       " ['60713_14_rentroll', 0, 12.168659609770641, 1.3976733674044584],\n",
       " ['60713_15_rentroll', 0, 10.973679580142205, 2.215899085528377],\n",
       " ['60713_16_rentroll', 0, 11.222594222446665, 1.4138005259861761],\n",
       " ['60713_17_rentroll', 0, 10.595376917583513, 2.447290171242123],\n",
       " ['60713_18_rentroll', 0, 11.038585939785307, 1.4138805968038741],\n",
       " ['60713_19_rentroll', 0, 11.21021416930785, 1.414175910820518],\n",
       " ['60713_1_rentroll', 0, 10.521813876224481, 2.449154855790502],\n",
       " ['60713_20_rentroll', 0, 11.955306324565585, 1.397430838158279],\n",
       " ['60713_21_rentroll', 0, 10.701382395682742, 2.394559691037124],\n",
       " ['60713_22_rentroll', 0, 10.944973751040429, 2.4488510106986663],\n",
       " ['60713_23_rentroll', 0, 12.885186710044051, 2.4329575543160646],\n",
       " ['60713_24_rentroll', 0, 13.170775424776053, 2.426663595461128],\n",
       " ['60713_25_rentroll', 0, 12.168659609770641, 1.396488161474007],\n",
       " ['60713_26_rentroll', 0, 11.03858593172714, 1.4086745077135054],\n",
       " ['60713_27_rentroll', 0, 10.430179789299995, 2.43932014473798],\n",
       " ['60713_28_rentroll', 0, 12.168659609770641, 1.7224089336360058],\n",
       " ['60713_29_rentroll', 0, 10.70223356285273, 2.8205732454721777],\n",
       " ['60713_2_rentroll', 0, 10.636143373884964, 1.4136267039716952],\n",
       " ['60713_30_rentroll', 0, 12.702136471189887, 1.4036414292309896],\n",
       " ['60713_31_rentroll', 0, 12.885186710044051, 2.433699913228252],\n",
       " ['60713_32_rentroll', 0, 10.567342108596149, 2.4444881487887886],\n",
       " ['60713_33_rentroll', 0, 11.312858768828457, 1.3893370589274694],\n",
       " ['60713_34_rentroll', 0, 10.383211362041358, 2.44102672560569],\n",
       " ['60713_35_rentroll', 0, 12.014720829168397, 1.4047681818049873],\n",
       " ['60713_3_rentroll', 0, 10.75817851683471, 2.2348381684878054],\n",
       " ['60713_4_rentroll', 0, 11.190391904092445, 1.3869808139004087],\n",
       " ['60713_5_rentroll', 0, 12.623382924024511, 2.2332980776453315],\n",
       " ['60713_6_rentroll', 0, 12.719559459131238, 1.4090123919413002],\n",
       " ['60713_7_rentroll', 0, 12.808808365170833, 2.202081856034074],\n",
       " ['60713_8_rentroll', 0, 11.21021416930785, 1.4141896354817107],\n",
       " ['60713_9_rentroll', 0, 11.953032302720697, 1.3942148111694683],\n",
       " ['60771_1_rentroll', 1, 6.243941104287343, 3.644127803220804],\n",
       " ['60771_2_rentroll', 1, 6.243941104287343, 3.712260963333194],\n",
       " ['60771_3_rentroll', 1, 6.243941104287343, 3.701438786091328],\n",
       " ['60771_4_rentroll', 1, 6.243941104287343, 3.6799638392696177],\n",
       " ['60784_1_rentroll', 0, 7.380561744699968, 6.533619106568996],\n",
       " ['60784_1_rentroll', 13, 3.561327178327606, 1.4494670667315757],\n",
       " ['60784_2_rentroll', 0, 7.380561744699968, 6.5000428632867076],\n",
       " ['60784_2_rentroll', 12, 3.2520517206557624, 1.1881115435507972],\n",
       " ['60784_3_rentroll', 0, 7.521421219106056, 6.6720841524813315],\n",
       " ['60784_3_rentroll', 12, 3.702186652733694, 1.5335039321648027],\n",
       " ['60784_4_rentroll', 0, 7.380561744699968, 6.046935713181271],\n",
       " ['60784_4_rentroll', 14, 3.4180642154843226, 1.2102901359397458],\n",
       " ['60792_1_rentroll', 0, 11.458943090066715, 4.0305358428991385],\n",
       " ['60792_1_rentroll', 20, 11.365192574064313, 3.982429599027752],\n",
       " ['60792_2_rentroll', 0, 11.619944664876035, 3.982523143440267],\n",
       " ['60792_2_rentroll', 21, 11.458943090066715, 3.902475013185247],\n",
       " ['60792_3_rentroll', 0, 11.619944664876035, 4.513113804450173],\n",
       " ['60792_3_rentroll', 24, 11.458943090066715, 4.4247290704670315],\n",
       " ['60792_4_rentroll', 0, 11.619944664876035, 4.231723698597034],\n",
       " ['60792_4_rentroll', 23, 8.719784290732516, 2.6913308473389184],\n",
       " ['60792_4_rentroll', 24, 9.760452282297612, 3.244071843675518],\n",
       " ['60814_1_rentroll', 0, 10.135075431751329, 2.745003416751322],\n",
       " ['60819_1_rentroll', 0, 1.2140811744128501, 1.292426826961396],\n",
       " ['60819_1_rentroll', 15, 1.4525105873551598, 2.0145869372155167],\n",
       " ['60819_1_rentroll', 17, 1.3534508934563376, 1.7145528156492233],\n",
       " ['60861_1_rentroll', 0, 6.944063771392023, 4.879623780348785],\n",
       " ['60861_1_rentroll', 1, 4.291930672422084, 2.397646841755117],\n",
       " ['60868_1_rentroll', 0, 7.709824610583073, 3.720344982154462],\n",
       " ['60868_1_rentroll', 1, 4.4327901468281725, 1.2902141786904777],\n",
       " ['60868_2_rentroll', 0, 8.622459708501532, 4.298039627979051],\n",
       " ['60868_2_rentroll', 1, 4.573649621234261, 1.4056621244580727],\n",
       " ['60869_1_rentroll', 0, 8.622459708501532, 5.6529090797939965],\n",
       " ['60869_1_rentroll', 1, 4.573649621234261, 2.1248333816507294],\n",
       " ['60869_2_rentroll', 0, 8.622459708501532, 5.649037163446094],\n",
       " ['60869_2_rentroll', 1, 4.573649621234261, 2.1256371157436087],\n",
       " ['60869_3_rentroll', 0, 8.622459708501532, 5.650255536430632],\n",
       " ['60869_3_rentroll', 1, 4.573649621234261, 2.1210795021949957],\n",
       " ['71528_1_rentroll', 0, 8.370021847136028, 4.8547098876811665],\n",
       " ['71599_1_rentroll', 0, 8.622459708501532, 4.289363818451748],\n",
       " ['71599_1_rentroll', 1, 4.573649621234261, 1.4654773041127012],\n",
       " ['71599_2_rentroll', 0, 8.622459708501532, 4.2931860870238925],\n",
       " ['71599_2_rentroll', 1, 4.573649621234261, 1.476883715976618],\n",
       " ['71599_3_rentroll', 0, 8.622459708501532, 4.279209387185191],\n",
       " ['71599_3_rentroll', 1, 4.573649621234261, 1.4611477173176983],\n",
       " ['71600_1_rentroll', 0, 8.483309589690418, 4.8669259228068],\n",
       " ['71600_1_rentroll', 1, 5.348644768048067, 2.595898896404039],\n",
       " ['71600_2_rentroll', 0, 8.622459708501532, 5.553740137741646],\n",
       " ['71600_2_rentroll', 1, 4.573649621234261, 2.027965599132224],\n",
       " ['71604_1_rentroll', 0, 8.483309589690418, 4.726440323922995],\n",
       " ['71604_1_rentroll', 1, 5.348644768048067, 2.639202890095221],\n",
       " ['71604_2_rentroll', 0, 8.483309589690418, 4.673029751963119],\n",
       " ['71604_2_rentroll', 1, 5.348644768048067, 2.583946795498278],\n",
       " ['71604_3_rentroll', 0, 8.483309589690418, 4.723249180985085],\n",
       " ['71604_3_rentroll', 1, 5.348644768048067, 2.6368866009422987],\n",
       " ['71633_1_rentroll', 0, 7.813831736593087, 2.39789697678567],\n",
       " ['71638_1_rentroll', 0, 8.76331918290762, 5.549555861707765],\n",
       " ['71638_1_rentroll', 1, 4.714509095640349, 2.1679334208172665],\n",
       " ['71638_2_rentroll', 0, 8.76331918290762, 5.6111665608608465],\n",
       " ['71638_2_rentroll', 1, 4.714509095640349, 2.1975161100245413],\n",
       " ['71638_3_rentroll', 0, 8.483309589690418, 4.7688887926981405],\n",
       " ['71638_3_rentroll', 1, 5.348644768048067, 2.6459447306910415],\n",
       " ['71638_4_rentroll', 0, 8.76331918290762, 5.546485077342275],\n",
       " ['71638_4_rentroll', 1, 4.714509095640349, 2.168798775419893],\n",
       " ['71638_5_rentroll', 0, 8.76331918290762, 5.546485077342275],\n",
       " ['71638_5_rentroll', 1, 4.714509095640349, 2.168798775419893],\n",
       " ['71638_6_rentroll', 0, 8.483309589690418, 4.741854908114184],\n",
       " ['71638_6_rentroll', 1, 5.348644768048067, 2.6476007053872714],\n",
       " ['71638_7_rentroll', 0, 8.76331918290762, 5.606658797502029],\n",
       " ['71638_7_rentroll', 1, 4.714509095640349, 2.1957609233731503],\n",
       " ['71638_8_rentroll', 0, 8.76331918290762, 5.596731768763489],\n",
       " ['71638_8_rentroll', 1, 4.714509095640349, 2.194463427492794],\n",
       " ['71638_9_rentroll', 0, 8.483309589690418, 4.767358430788556],\n",
       " ['71638_9_rentroll', 1, 5.348644768048067, 2.647700102896588],\n",
       " ['71676_1_rentroll', 0, 7.909103237901371, 4.374518191989052],\n",
       " ['71676_2_rentroll', 0, 8.622459708501532, 3.898915930337051],\n",
       " ['71676_2_rentroll', 1, 4.573649621234261, 1.3555641993410914],\n",
       " ['71687_1_rentroll', 0, 4.787877352377594, 3.8808111326009422],\n",
       " ['71687_1_rentroll', 14, 2.823374411735279, 1.1032548252596968],\n",
       " ['71687_1_rentroll', 28, 3.368917854028188, 1.8745835912903999],\n",
       " ['71694_1_rentroll', 0, 11.943423539289526, 2.0],\n",
       " ['71710_1_rentroll', 0, 6.804913652580909, 4.304726116129771],\n",
       " ['71710_1_rentroll', 1, 5.06692581923589, 2.8127770740361346],\n",
       " ['71710_2_rentroll', 0, 6.099229885414107, 3.8495077012775623],\n",
       " ['71710_2_rentroll', 1, 3.6764405935502618, 1.5031705339440151],\n",
       " ['71748_2_rentroll', 0, 14.521981539546257, 1.4139240184824458],\n",
       " ['71748_3_rentroll', 0, 13.424960161510201, 2.445079449215437],\n",
       " ['71748_4_rentroll', 0, 13.615762573292361, 1.7222961704825868],\n",
       " ['71748_5_rentroll', 0, 12.111309119523678, 3.148774833801911],\n",
       " ['71748_6_rentroll', 0, 11.60801356642221, 2.2322195159830063],\n",
       " ['71748_7_rentroll', 0, 14.22128063782575, 2.20392823005281],\n",
       " ['71748_8_rentroll', 0, 12.284642523889337, 2.445320802229934],\n",
       " ['71768_1_rentroll', 0, 4.506261119355206, 3.5336447711454078],\n",
       " ['71773_1_rentroll', 0, 8.76331918290762, 5.9090558687110875],\n",
       " ['71773_1_rentroll', 1, 4.714509095640349, 2.295725608841821],\n",
       " ['71773_2_rentroll', 0, 8.483309589690418, 4.784666935029963],\n",
       " ['71773_2_rentroll', 1, 5.348644768048067, 2.6066687879584602],\n",
       " ['71773_3_rentroll', 0, 8.76331918290762, 5.891690239994621],\n",
       " ['71773_3_rentroll', 1, 4.714509095640349, 2.2990702782638106],\n",
       " ['71773_4_rentroll', 0, 8.76331918290762, 5.812069534765666],\n",
       " ['71773_4_rentroll', 1, 4.714509095640349, 2.2506835500464653],\n",
       " ['71773_5_rentroll', 0, 8.76331918290762, 5.822892655229529],\n",
       " ['71773_5_rentroll', 1, 4.714509095640349, 2.2531451838415952],\n",
       " ['71773_6_rentroll', 0, 8.76331918290762, 5.9090558687110875],\n",
       " ['71773_6_rentroll', 1, 4.714509095640349, 2.295725608841821],\n",
       " ['71789_1_rentroll', 0, 4.898778986000345, 1.481352808138258],\n",
       " ['71864_1_rentroll', 0, 11.764774995951015, 2.442615552465949],\n",
       " ['71865_1_rentroll', 0, 9.741970197714135, 3.38458451741112],\n",
       " ['71865_2_rentroll', 0, 9.741970197714135, 3.711948207230557],\n",
       " ['71865_3_rentroll', 0, 9.741970197714135, 3.369393711435474],\n",
       " ['71867_1_rentroll', 0, 9.13777475695374, 5.743934554915503],\n",
       " ['71867_1_rentroll', 37, 7.33088275723901, 4.2450002555776125],\n",
       " ['71867_1_rentroll', 48, 4.867876658908163, 2.201776686681756],\n",
       " ['71974_10_rentroll', 0, 8.622459708501532, 5.920573514721246],\n",
       " ['71974_10_rentroll', 1, 4.573649621234261, 2.306560363915128],\n",
       " ['71974_11_rentroll', 0, 8.622459708501532, 5.966583960389047],\n",
       " ['71974_11_rentroll', 1, 4.573649621234261, 2.340730010885894],\n",
       " ['71974_12_rentroll', 0, 8.483309589690418, 4.988621179199837],\n",
       " ['71974_12_rentroll', 1, 5.348644768048067, 2.7322285051378215],\n",
       " ['71974_1_rentroll', 0, 8.622459708501532, 5.86028272230639],\n",
       " ['71974_1_rentroll', 1, 4.573649621234261, 2.283907148379695],\n",
       " ['71974_2_rentroll', 0, 8.622459708501532, 5.8733232450050155],\n",
       " ['71974_2_rentroll', 1, 4.573649621234261, 2.290301500050713],\n",
       " ['71974_3_rentroll', 0, 8.622459708501532, 5.920573514721246],\n",
       " ['71974_3_rentroll', 1, 4.573649621234261, 2.306560363915128],\n",
       " ['71974_4_rentroll', 0, 8.622459708501532, 5.920573514721246],\n",
       " ['71974_4_rentroll', 1, 4.573649621234261, 2.306560363915128],\n",
       " ['71974_5_rentroll', 0, 8.622459708501532, 5.830749512005318],\n",
       " ['71974_5_rentroll', 1, 4.573649621234261, 2.237678327868873],\n",
       " ['71974_6_rentroll', 0, 8.622459708501532, 5.762392957724132],\n",
       " ['71974_6_rentroll', 1, 4.573649621234261, 2.21550707146026],\n",
       " ['71974_7_rentroll', 0, 8.622459708501532, 5.894910858504237],\n",
       " ['71974_7_rentroll', 1, 4.573649621234261, 2.299664368495724],\n",
       " ['71974_8_rentroll', 0, 8.483309589690418, 4.840298152425002],\n",
       " ['71974_8_rentroll', 1, 5.348644768048067, 2.593918144664322],\n",
       " ['71974_9_rentroll', 0, 8.622459708501532, 5.920573514721246],\n",
       " ['71974_9_rentroll', 1, 4.573649621234261, 2.306560363915128],\n",
       " ['73520_1_rentroll', 0, 8.483309589690418, 4.802941607035685],\n",
       " ['73520_1_rentroll', 1, 5.348644768048067, 2.540697173104846],\n",
       " ['73520_2_rentroll', 0, 8.622459708501532, 5.669717440535997],\n",
       " ['73520_2_rentroll', 1, 4.573649621234261, 2.131642079827811],\n",
       " ['73741_1_rentroll', 0, 8.76331918290762, 5.475205580294319],\n",
       " ['73741_1_rentroll', 1, 4.714509095640349, 2.0472902707496035],\n",
       " ['73763_1_rentroll', 0, 7.308131804942088, 2.9547414301258597],\n",
       " ['73763_1_rentroll', 1, 10.165145086656969, 4.783531761132761],\n",
       " ['74051_1_rentroll', 0, 7.203550057960517, 2.2427218117575887],\n",
       " ['74051_1_rentroll', 1, 7.151738242502035, 2.209173867622845],\n",
       " ['74051_1_rentroll', 2, 5.79713645248148, 1.3320746041768616],\n",
       " ['74051_1_rentroll', 3, 5.3173573717300435, 1.021419560425967],\n",
       " ['74051_1_rentroll', 6, 5.678415772399559, 1.255203436706989],\n",
       " ['74051_1_rentroll', 8, 5.631022046822272, 1.224516188172371],\n",
       " ['74051_1_rentroll', 11, 5.711075338149595, 1.2763503754419419],\n",
       " ['74051_1_rentroll', 13, 5.335478691247751, 1.0331530426336122],\n",
       " ['74051_1_rentroll', 16, 5.630733707749078, 1.224329489770978],\n",
       " ['74051_1_rentroll', 17, 5.829832316841687, 1.353245046117317],\n",
       " ['74051_1_rentroll', 18, 5.68720168121343, 1.2608922776683116],\n",
       " ['74051_1_rentroll', 20, 5.462525897856819, 1.1154156028639457],\n",
       " ['74051_1_rentroll', 26, 5.645809521361109, 1.2340910190354273],\n",
       " ['74051_1_rentroll', 29, 5.437615915430136, 1.0992864884630527],\n",
       " ['74051_1_rentroll', 30, 6.091630124063869, 1.5227580835117716],\n",
       " ['74051_1_rentroll', 32, 5.4934204926816905, 1.1354197299550117],\n",
       " ['74051_1_rentroll', 33, 5.645885371408744, 1.234140131639148],\n",
       " ['74051_1_rentroll', 38, 5.710244226699352, 1.2758122340883578],\n",
       " ['74051_1_rentroll', 46, 6.407362992567902, 1.7271938582543787],\n",
       " ['74051_1_rentroll', 49, 5.2983351401458245, 1.0091027412437303],\n",
       " ['74051_1_rentroll', 50, 5.762975389049444, 1.3099554516735157],\n",
       " ['74051_2_rentroll', 0, 6.333567115459462, 4.300195493608789],\n",
       " ['74051_2_rentroll', 1, 4.152224142657159, 1.0561428566401627],\n",
       " ['74051_2_rentroll', 9, 4.388423075278704, 1.4074135095241196],\n",
       " ['74051_2_rentroll', 12, 4.263459150652327, 1.2215694885404067],\n",
       " ['74051_2_rentroll', 14, 4.665478443081268, 1.8194450917707132],\n",
       " ['74051_2_rentroll', 17, 4.243570818100634, 1.1919919308323026],\n",
       " ['74051_2_rentroll', 48, 4.148145729749308, 1.0500775169327778],\n",
       " ['77429_RentRoll', 0, 6.029359392051452, 6.581802606607203],\n",
       " ['77434_RentRoll', 0, 7.467878043892186, 3.953912940014346],\n",
       " ['77464_Phase2RentRoll', 0, 8.483309589690418, 4.746243398626062],\n",
       " ['77464_Phase2RentRoll', 1, 5.348644768048067, 2.6118641984143793],\n",
       " ['77464_Phase3_RentRoll', 0, 8.483309589690418, 4.640616295513469],\n",
       " ['77464_Phase3_RentRoll', 1, 5.348644768048067, 2.505634354355193],\n",
       " ['77464_Phase4_RentRoll', 0, 8.483309589690418, 4.7345607903067535],\n",
       " ['77464_Phase4_RentRoll', 1, 5.348644768048067, 2.5936665771913536],\n",
       " ['77464_Phase5_RentRoll', 0, 8.483309589690418, 4.768996664602069],\n",
       " ['77464_Phase5_RentRoll', 1, 5.348644768048067, 2.6621748886180057],\n",
       " ['77464_Phase_1-5_RentRoll', 0, 8.483309589690418, 4.725796648366926],\n",
       " ['77464_Phase_1-5_RentRoll', 1, 5.348644768048067, 2.613453606055975],\n",
       " ['77467_RentRoll', 0, 8.622459708501532, 4.241394710521743],\n",
       " ['77467_RentRoll', 1, 4.573649621234261, 1.3534436193283585],\n",
       " ['77517_RentRoll', 0, 8.622459708501532, 5.359490516972241],\n",
       " ['77517_RentRoll', 1, 4.573649621234261, 1.9954715451637257],\n",
       " ['77545_RentRoll', 0, 3.9675015100433426, 1.656213526645281],\n",
       " ['77545_RentRoll', 9, 3.6803568263616775, 1.2617258860133211],\n",
       " ['77545_RentRoll', 14, 3.6803568263616775, 1.2617258860133211],\n",
       " ['77782_RentRoll', 0, 1.7960068355393655, 1.7159819825468148],\n",
       " ['77782_RentRoll', 9, 1.9773123670501036, 2.29154285281672]]"
      ]
     },
     "metadata": {},
     "execution_count": 79
    }
   ],
   "source": [
    "zscores"
   ]
  }
 ]
}